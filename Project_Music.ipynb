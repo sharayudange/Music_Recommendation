{
  "nbformat": 4,
  "nbformat_minor": 0,
  "metadata": {
    "colab": {
      "provenance": []
    },
    "kernelspec": {
      "name": "python3",
      "display_name": "Python 3"
    },
    "language_info": {
      "name": "python"
    }
  },
  "cells": [
    {
      "cell_type": "code",
      "execution_count": null,
      "metadata": {
        "id": "8s2WY2ygy2tw"
      },
      "outputs": [],
      "source": [
        "import numpy as np\n",
        "import pandas as pd\n",
        "\n",
        "import seaborn as sns\n",
        "import plotly.express as px\n",
        "import matplotlib.pyplot as plt\n",
        "%matplotlib inline\n",
        "\n",
        "from sklearn.cluster import KMeans\n",
        "from sklearn.preprocessing import StandardScaler\n",
        "from sklearn.pipeline import Pipeline\n",
        "from sklearn.decomposition import PCA\n",
        "\n",
        "\n",
        "import warnings\n",
        "warnings.filterwarnings(\"ignore\")"
      ]
    },
    {
      "cell_type": "code",
      "source": [
        "data = pd.read_csv('/content/data.csv')"
      ],
      "metadata": {
        "id": "BV-rm5gn-IvM"
      },
      "execution_count": null,
      "outputs": []
    },
    {
      "cell_type": "code",
      "source": [
        "data.shape"
      ],
      "metadata": {
        "colab": {
          "base_uri": "https://localhost:8080/"
        },
        "id": "0ED3jMB_-Q0I",
        "outputId": "5267ccd7-5b17-4965-b352-dd4a0f68040d"
      },
      "execution_count": null,
      "outputs": [
        {
          "output_type": "execute_result",
          "data": {
            "text/plain": [
              "(170653, 19)"
            ]
          },
          "metadata": {},
          "execution_count": 3
        }
      ]
    },
    {
      "cell_type": "code",
      "source": [
        "data.columns"
      ],
      "metadata": {
        "colab": {
          "base_uri": "https://localhost:8080/"
        },
        "id": "NOYOYP1q-XkC",
        "outputId": "a348beaf-6354-4625-a4c2-d5c133369e7a"
      },
      "execution_count": null,
      "outputs": [
        {
          "output_type": "execute_result",
          "data": {
            "text/plain": [
              "Index(['valence', 'year', 'acousticness', 'artists', 'danceability',\n",
              "       'duration_ms', 'energy', 'explicit', 'id', 'instrumentalness', 'key',\n",
              "       'liveness', 'loudness', 'mode', 'name', 'popularity', 'release_date',\n",
              "       'speechiness', 'tempo'],\n",
              "      dtype='object')"
            ]
          },
          "metadata": {},
          "execution_count": 4
        }
      ]
    },
    {
      "cell_type": "code",
      "source": [
        "data.info()"
      ],
      "metadata": {
        "colab": {
          "base_uri": "https://localhost:8080/"
        },
        "id": "Z3tjnyq5-kT9",
        "outputId": "a610ac87-9a37-4a0e-efaf-72b4aa320276"
      },
      "execution_count": null,
      "outputs": [
        {
          "output_type": "stream",
          "name": "stdout",
          "text": [
            "<class 'pandas.core.frame.DataFrame'>\n",
            "RangeIndex: 170653 entries, 0 to 170652\n",
            "Data columns (total 19 columns):\n",
            " #   Column            Non-Null Count   Dtype  \n",
            "---  ------            --------------   -----  \n",
            " 0   valence           170653 non-null  float64\n",
            " 1   year              170653 non-null  int64  \n",
            " 2   acousticness      170653 non-null  float64\n",
            " 3   artists           170653 non-null  object \n",
            " 4   danceability      170653 non-null  float64\n",
            " 5   duration_ms       170653 non-null  int64  \n",
            " 6   energy            170653 non-null  float64\n",
            " 7   explicit          170653 non-null  int64  \n",
            " 8   id                170653 non-null  object \n",
            " 9   instrumentalness  170653 non-null  float64\n",
            " 10  key               170653 non-null  int64  \n",
            " 11  liveness          170653 non-null  float64\n",
            " 12  loudness          170653 non-null  float64\n",
            " 13  mode              170653 non-null  int64  \n",
            " 14  name              170653 non-null  object \n",
            " 15  popularity        170653 non-null  int64  \n",
            " 16  release_date      170653 non-null  object \n",
            " 17  speechiness       170653 non-null  float64\n",
            " 18  tempo             170653 non-null  float64\n",
            "dtypes: float64(9), int64(6), object(4)\n",
            "memory usage: 24.7+ MB\n"
          ]
        }
      ]
    },
    {
      "cell_type": "code",
      "source": [
        "year_data = pd.read_csv('/content/data_by_year.csv')"
      ],
      "metadata": {
        "id": "PZ4v37S5-pqn"
      },
      "execution_count": null,
      "outputs": []
    },
    {
      "cell_type": "code",
      "source": [
        "na_count = data.isna().sum()\n",
        "na_count"
      ],
      "metadata": {
        "colab": {
          "base_uri": "https://localhost:8080/",
          "height": 680
        },
        "id": "OuLXIj7b-3jX",
        "outputId": "8288d044-9dd5-4eca-e2dd-1256e21143f8"
      },
      "execution_count": null,
      "outputs": [
        {
          "output_type": "execute_result",
          "data": {
            "text/plain": [
              "valence             0\n",
              "year                0\n",
              "acousticness        0\n",
              "artists             0\n",
              "danceability        0\n",
              "duration_ms         0\n",
              "energy              0\n",
              "explicit            0\n",
              "id                  0\n",
              "instrumentalness    0\n",
              "key                 0\n",
              "liveness            0\n",
              "loudness            0\n",
              "mode                0\n",
              "name                0\n",
              "popularity          0\n",
              "release_date        0\n",
              "speechiness         0\n",
              "tempo               0\n",
              "dtype: int64"
            ],
            "text/html": [
              "<div>\n",
              "<style scoped>\n",
              "    .dataframe tbody tr th:only-of-type {\n",
              "        vertical-align: middle;\n",
              "    }\n",
              "\n",
              "    .dataframe tbody tr th {\n",
              "        vertical-align: top;\n",
              "    }\n",
              "\n",
              "    .dataframe thead th {\n",
              "        text-align: right;\n",
              "    }\n",
              "</style>\n",
              "<table border=\"1\" class=\"dataframe\">\n",
              "  <thead>\n",
              "    <tr style=\"text-align: right;\">\n",
              "      <th></th>\n",
              "      <th>0</th>\n",
              "    </tr>\n",
              "  </thead>\n",
              "  <tbody>\n",
              "    <tr>\n",
              "      <th>valence</th>\n",
              "      <td>0</td>\n",
              "    </tr>\n",
              "    <tr>\n",
              "      <th>year</th>\n",
              "      <td>0</td>\n",
              "    </tr>\n",
              "    <tr>\n",
              "      <th>acousticness</th>\n",
              "      <td>0</td>\n",
              "    </tr>\n",
              "    <tr>\n",
              "      <th>artists</th>\n",
              "      <td>0</td>\n",
              "    </tr>\n",
              "    <tr>\n",
              "      <th>danceability</th>\n",
              "      <td>0</td>\n",
              "    </tr>\n",
              "    <tr>\n",
              "      <th>duration_ms</th>\n",
              "      <td>0</td>\n",
              "    </tr>\n",
              "    <tr>\n",
              "      <th>energy</th>\n",
              "      <td>0</td>\n",
              "    </tr>\n",
              "    <tr>\n",
              "      <th>explicit</th>\n",
              "      <td>0</td>\n",
              "    </tr>\n",
              "    <tr>\n",
              "      <th>id</th>\n",
              "      <td>0</td>\n",
              "    </tr>\n",
              "    <tr>\n",
              "      <th>instrumentalness</th>\n",
              "      <td>0</td>\n",
              "    </tr>\n",
              "    <tr>\n",
              "      <th>key</th>\n",
              "      <td>0</td>\n",
              "    </tr>\n",
              "    <tr>\n",
              "      <th>liveness</th>\n",
              "      <td>0</td>\n",
              "    </tr>\n",
              "    <tr>\n",
              "      <th>loudness</th>\n",
              "      <td>0</td>\n",
              "    </tr>\n",
              "    <tr>\n",
              "      <th>mode</th>\n",
              "      <td>0</td>\n",
              "    </tr>\n",
              "    <tr>\n",
              "      <th>name</th>\n",
              "      <td>0</td>\n",
              "    </tr>\n",
              "    <tr>\n",
              "      <th>popularity</th>\n",
              "      <td>0</td>\n",
              "    </tr>\n",
              "    <tr>\n",
              "      <th>release_date</th>\n",
              "      <td>0</td>\n",
              "    </tr>\n",
              "    <tr>\n",
              "      <th>speechiness</th>\n",
              "      <td>0</td>\n",
              "    </tr>\n",
              "    <tr>\n",
              "      <th>tempo</th>\n",
              "      <td>0</td>\n",
              "    </tr>\n",
              "  </tbody>\n",
              "</table>\n",
              "</div><br><label><b>dtype:</b> int64</label>"
            ]
          },
          "metadata": {},
          "execution_count": 7
        }
      ]
    },
    {
      "cell_type": "markdown",
      "source": [
        "#Feature Correlation by Pearson, Spearman, Kendall"
      ],
      "metadata": {
        "id": "SKeZNroO_BB2"
      }
    },
    {
      "cell_type": "code",
      "source": [
        "import pandas as pd\n",
        "import matplotlib.pyplot as plt\n",
        "from scipy.stats import pearsonr, spearmanr, kendalltau\n",
        "\n",
        "# Load the dataset\n",
        "data = pd.read_csv('/content/data.csv')\n",
        "\n",
        "# List of feature names\n",
        "feature_names = [\n",
        "    'acousticness', 'danceability', 'energy', 'instrumentalness',\n",
        "    'liveness', 'loudness', 'speechiness', 'tempo', 'valence',\n",
        "    'duration_ms', 'explicit', 'key', 'mode', 'year'\n",
        "]\n",
        "\n",
        "# Target variable\n",
        "target = 'popularity'\n",
        "\n",
        "# Step 1: Check normality using skewness and kurtosis\n",
        "normality_results = {}\n",
        "for feature in feature_names:\n",
        "    skewness = data[feature].skew()\n",
        "    kurtosis = data[feature].kurt()\n",
        "    is_normal = abs(skewness) < 0.5 and 2 < kurtosis < 4\n",
        "    normality_results[feature] = \"Normal\" if is_normal else \"Not Normal\"\n",
        "\n",
        "# Print normality results\n",
        "print(\"Normality Check:\")\n",
        "for feature, result in normality_results.items():\n",
        "    print(f\"{feature}: {result}\")\n",
        "\n",
        "\n",
        "# Step 2: Compute Correlations\n",
        "correlation_results = []\n",
        "\n",
        "for feature in feature_names:\n",
        "    # Pearson Correlation\n",
        "    #pearson_corr, p_value = pearsonr(data[feature], data[target])\n",
        "\n",
        "    # Spearman Correlation\n",
        "    spearman_corr, p_value = spearmanr(data[feature], data[target])\n",
        "\n",
        "    # Kendall Correlation\n",
        "    kendall_corr, p_value = kendalltau(data[feature], data[target])\n",
        "\n",
        "    # Append results\n",
        "    correlation_results.append({\n",
        "        \"Feature\": feature,\n",
        "        #\"Pearson\": pearson_corr,\n",
        "        \"Spearman\": spearman_corr,\n",
        "        \"Kendall\": kendall_corr\n",
        "    })\n",
        "\n",
        "# Create a DataFrame from correlation_results\n",
        "correlation_df = pd.DataFrame(correlation_results)\n",
        "\n",
        "# Step 3: Visualization\n",
        "correlation_df_melted = correlation_df.melt(id_vars=\"Feature\",\n",
        "                                            value_vars=[ \"Spearman\", \"Kendall\"],\n",
        "                                            var_name=\"Correlation Type\",\n",
        "                                            value_name=\"Value\")\n",
        "\n",
        "plt.figure(figsize=(12, 8))\n",
        "sns.barplot(data=correlation_df_melted, x=\"Feature\", y=\"Value\", hue=\"Correlation Type\")\n",
        "plt.xticks(rotation=90)\n",
        "plt.title(\"Correlation of Features with Popularity\")\n",
        "plt.ylabel(\"Correlation Coefficient\")\n",
        "plt.xlabel(\"Feature\")\n",
        "plt.legend(title=\"Correlation Type\")\n",
        "plt.tight_layout()\n",
        "plt.show()"
      ],
      "metadata": {
        "colab": {
          "base_uri": "https://localhost:8080/",
          "height": 1000
        },
        "id": "1697MBL8-8nS",
        "outputId": "51b07317-160c-4d64-d5d3-51df24997f7a"
      },
      "execution_count": null,
      "outputs": [
        {
          "output_type": "stream",
          "name": "stdout",
          "text": [
            "Normality Check:\n",
            "acousticness: Not Normal\n",
            "danceability: Not Normal\n",
            "energy: Not Normal\n",
            "instrumentalness: Not Normal\n",
            "liveness: Not Normal\n",
            "loudness: Not Normal\n",
            "speechiness: Not Normal\n",
            "tempo: Not Normal\n",
            "valence: Not Normal\n",
            "duration_ms: Not Normal\n",
            "explicit: Not Normal\n",
            "key: Not Normal\n",
            "mode: Not Normal\n",
            "year: Not Normal\n"
          ]
        },
        {
          "output_type": "display_data",
          "data": {
            "text/plain": [
              "<Figure size 1200x800 with 1 Axes>"
            ],
            "image/png": "[encoded data removed]"
          },
          "metadata": {}
        }
      ]
    },
    {
      "cell_type": "markdown",
      "source": [
        "**Data Understanding by Visualization and EDA**\n"
      ],
      "metadata": {
        "id": "3Z8rm9LZBZw1"
      }
    },
    {
      "cell_type": "markdown",
      "source": [
        "Using the data grouped by year, we can understand how the overall sound of music has changed from 1921 to 2020."
      ],
      "metadata": {
        "id": "lfQFcxtPBp5r"
      }
    },
    {
      "cell_type": "code",
      "source": [
        "def get_decade(year): #year from data.csv\n",
        "    period_start = int(year/10) * 10\n",
        "    decade = '{}s'.format(period_start)\n",
        "    return decade\n",
        "\n",
        "data['decade'] = data['year'].apply(get_decade)\n",
        "\n",
        "sns.set(rc={'figure.figsize':(11 ,6)})\n",
        "sns.countplot(data['decade'])"
      ],
      "metadata": {
        "colab": {
          "base_uri": "https://localhost:8080/",
          "height": 567
        },
        "id": "5caX-XACBkLq",
        "outputId": "d285ecc0-94cb-47c5-e0a6-6e61e263dfdc"
      },
      "execution_count": null,
      "outputs": [
        {
          "output_type": "execute_result",
          "data": {
            "text/plain": [
              "<Axes: xlabel='count', ylabel='decade'>"
            ]
          },
          "metadata": {},
          "execution_count": 9
        },
        {
          "output_type": "display_data",
          "data": {
            "text/plain": [
              "<Figure size 1100x600 with 1 Axes>"
            ],
            "image/png": "[encoded data removed]"
          },
          "metadata": {}
        }
      ]
    },
    {
      "cell_type": "code",
      "source": [
        "sound_features = ['acousticness', 'danceability', 'energy', 'instrumentalness', 'liveness', 'valence']\n",
        "fig = px.line(year_data, x='year', y=sound_features)  #from year data we take year\n",
        "fig.show()"
      ],
      "metadata": {
        "colab": {
          "base_uri": "https://localhost:8080/",
          "height": 542
        },
        "id": "MoZ-TRCrBw1m",
        "outputId": "0240391a-14c0-4680-97fb-6cbcd58b182b"
      },
      "execution_count": null,
      "outputs": [
        {
          "output_type": "display_data",
          "data": {
            "text/html": [
              "<html>\n",
              "<head><meta charset=\"utf-8\" /></head>\n",
              "<body>\n",
              "    <div>            <script src=\"https://cdnjs.cloudflare.com/ajax/libs/mathjax/2.7.5/MathJax.js?config=TeX-AMS-MML_SVG\"></script><script type=\"text/javascript\">if (window.MathJax && window.MathJax.Hub && window.MathJax.Hub.Config) {window.MathJax.Hub.Config({SVG: {font: \"STIX-Web\"}});}</script>                <script type=\"text/javascript\">window.PlotlyConfig = {MathJaxConfig: 'local'};</script>\n",
              "        <script charset=\"utf-8\" src=\"https://cdn.plot.ly/plotly-2.35.2.min.js\"></script>                <div id=\"22498a66-ec26-479c-9f64-bfb050d50eec\" class=\"plotly-graph-div\" style=\"height:525px; width:100%;\"></div>            <script type=\"text/javascript\">                                    window.PLOTLYENV=window.PLOTLYENV || {};                                    if (document.getElementById(\"22498a66-ec26-479c-9f64-bfb050d50eec\")) {                    Plotly.newPlot(                        \"22498a66-ec26-479c-9f64-bfb050d50eec\",                        [{\"hovertemplate\":\"variable=acousticness\\u003cbr\\u003eyear=%{x}\\u003cbr\\u003evalue=%{y}\\u003cextra\\u003e\\u003c\\u002fextra\\u003e\",\"legendgroup\":\"acousticness\",\"line\":{\"color\":\"#636efa\",\"dash\":\"solid\"},\"marker\":{\"symbol\":\"circle\"},\"mode\":\"lines\",\"name\":\"acousticness\",\"orientation\":\"v\",\"showlegend\":true,\"x\":[1921,1922,1923,1924,1925,1926,1927,1928,1929,1930,1931,1932,1933,1934,1935,1936,1937,1938,1939,1940,1941,1942,1943,1944,1945,1946,1947,1948,1949,1950,1951,1952,1953,1954,1955,1956,1957,1958,1959,1960,1961,1962,1963,1964,1965,1966,1967,1968,1969,1970,1971,1972,1973,1974,1975,1976,1977,1978,1979,1980,1981,1982,1983,1984,1985,1986,1987,1988,1989,1990,1991,1992,1993,1994,1995,1996,1997,1998,1999,2000,2001,2002,2003,2004,2005,2006,2007,2008,2009,2010,2011,2012,2013,2014,2015,2016,2017,2018,2019,2020],\"xaxis\":\"x\",\"y\":[0.8868960000000005,0.9385915492957748,0.9572467913513516,0.940199860169493,0.9626070503597138,0.660817216981134,0.9361794552845558,0.9386165035685952,0.6014265861344558,0.936714937370057,0.8330399585921336,0.9357705179282878,0.899897909117222,0.8911487501730107,0.7783855599472987,0.7723120800000008,0.8654357853881286,0.9192803908646014,0.9087381000000004,0.8476440499999951,0.8957376562500025,0.8529343703923857,0.9027523185915528,0.9076531914893636,0.7096568630000005,0.9199445823665852,0.9139650224242392,0.9221549999999956,0.9075328949999956,0.8539413005999965,0.9022971956499974,0.8743009244999965,0.8909223502564074,0.8650197272999992,0.8405510069999986,0.8230569899999975,0.7928023589743608,0.7796118650000005,0.7793927897435907,0.7671814843243259,0.7519038684210535,0.720607806842106,0.7227048300000004,0.6941005307692291,0.6099113295384619,0.5248094599699997,0.5296103243521767,0.4937702403500001,0.4488463039999994,0.4600571139500007,0.4583362981000009,0.4600428051999994,0.4165241889999992,0.4472074226000001,0.4337738871950005,0.3614706321099993,0.3393025333750004,0.3289685734499993,0.29593224063,0.284955397635897,0.3012042267400006,0.2895800382050001,0.2947778916300001,0.2877095803450008,0.2965709032099995,0.2850806564249999,0.3116640663948722,0.322009946512821,0.3133512518150009,0.3328699505850001,0.3327652916307699,0.3208087638250009,0.3090685537400004,0.3062343630899999,0.3025118061200004,0.3010268798000006,0.3067156934549995,0.2914894615700001,0.2715901110661201,0.2893227005163599,0.2868424748428934,0.282624289885001,0.2564705181729783,0.2805589466225845,0.2557635068666665,0.2799863520256408,0.2540809575538463,0.2491917627212275,0.261928619096939,0.2426866435515872,0.2731826625185919,0.2499530443804624,0.2574880859564779,0.249312645880299,0.2539522577102332,0.2841710299554814,0.2860990665261043,0.2676329907750836,0.2782985863365824,0.2199308880935964],\"yaxis\":\"y\",\"type\":\"scatter\"},{\"hovertemplate\":\"variable=danceability\\u003cbr\\u003eyear=%{x}\\u003cbr\\u003evalue=%{y}\\u003cextra\\u003e\\u003c\\u002fextra\\u003e\",\"legendgroup\":\"danceability\",\"line\":{\"color\":\"#EF553B\",\"dash\":\"solid\"},\"marker\":{\"symbol\":\"circle\"},\"mode\":\"lines\",\"name\":\"danceability\",\"orientation\":\"v\",\"showlegend\":true,\"x\":[1921,1922,1923,1924,1925,1926,1927,1928,1929,1930,1931,1932,1933,1934,1935,1936,1937,1938,1939,1940,1941,1942,1943,1944,1945,1946,1947,1948,1949,1950,1951,1952,1953,1954,1955,1956,1957,1958,1959,1960,1961,1962,1963,1964,1965,1966,1967,1968,1969,1970,1971,1972,1973,1974,1975,1976,1977,1978,1979,1980,1981,1982,1983,1984,1985,1986,1987,1988,1989,1990,1991,1992,1993,1994,1995,1996,1997,1998,1999,2000,2001,2002,2003,2004,2005,2006,2007,2008,2009,2010,2011,2012,2013,2014,2015,2016,2017,2018,2019,2020],\"xaxis\":\"x\",\"y\":[0.4185973333333336,0.4820422535211267,0.5773405405405401,0.5498940677966102,0.5738633093525181,0.5998802612481859,0.6482682926829262,0.5342878667724027,0.6476698529411761,0.5181758835758836,0.5952217391304357,0.5577976095617526,0.57029030390738,0.528705882352941,0.5558691699604746,0.5580055454545453,0.5421572298325723,0.479977977161501,0.5126828,0.52189235,0.4804813541666676,0.4646338882282997,0.4551456338028168,0.5001744680851068,0.5191431500000011,0.4144450116009276,0.4713208484848491,0.4633694736842109,0.4421993999999996,0.5042531000000008,0.4624800999999999,0.4570322000000001,0.4374260512820513,0.4656388999999994,0.4881312,0.4878145000000007,0.5034812307692305,0.4800213999999995,0.4821143076923083,0.4860292432432435,0.4891655789473678,0.4931643684210523,0.48162135,0.5041769743589742,0.5034505641025638,0.5070204999999981,0.4926885942971483,0.5010080999999997,0.4880977999999999,0.5063075000000004,0.5042738499999999,0.5209994499999997,0.5154494500000005,0.51533975,0.5209980000000007,0.5297624999999999,0.5333237000000017,0.5407746000000005,0.5620453000000001,0.5561523589743594,0.5421846999999999,0.5642594000000005,0.5456292999999998,0.5303089499999987,0.5556424000000012,0.5409334000000001,0.5410193333333342,0.5404594358974372,0.5472274499999988,0.5352986500000001,0.5558243589743591,0.5550648499999989,0.5698781500000001,0.5528299500000016,0.5590457500000001,0.5878306000000001,0.5768138499999994,0.5862116499999998,0.5821579190158892,0.590918047034764,0.5833178553615969,0.5761602999999997,0.5757633060388944,0.5676803662258397,0.5722805641025652,0.5682301538461539,0.5634143589743592,0.5791928388746803,0.5641903571428577,0.5724883432539687,0.5528669806643526,0.5708818508997433,0.5711480263157896,0.5899476807980057,0.5937740628166152,0.6002023928770179,0.6122170180722886,0.6635004755111744,0.6448141097998967,0.6929043349753701],\"yaxis\":\"y\",\"type\":\"scatter\"},{\"hovertemplate\":\"variable=energy\\u003cbr\\u003eyear=%{x}\\u003cbr\\u003evalue=%{y}\\u003cextra\\u003e\\u003c\\u002fextra\\u003e\",\"legendgroup\":\"energy\",\"line\":{\"color\":\"#00cc96\",\"dash\":\"solid\"},\"marker\":{\"symbol\":\"circle\"},\"mode\":\"lines\",\"name\":\"energy\",\"orientation\":\"v\",\"showlegend\":true,\"x\":[1921,1922,1923,1924,1925,1926,1927,1928,1929,1930,1931,1932,1933,1934,1935,1936,1937,1938,1939,1940,1941,1942,1943,1944,1945,1946,1947,1948,1949,1950,1951,1952,1953,1954,1955,1956,1957,1958,1959,1960,1961,1962,1963,1964,1965,1966,1967,1968,1969,1970,1971,1972,1973,1974,1975,1976,1977,1978,1979,1980,1981,1982,1983,1984,1985,1986,1987,1988,1989,1990,1991,1992,1993,1994,1995,1996,1997,1998,1999,2000,2001,2002,2003,2004,2005,2006,2007,2008,2009,2010,2011,2012,2013,2014,2015,2016,2017,2018,2019,2020],\"xaxis\":\"x\",\"y\":[0.2318151333333333,0.2378153521126759,0.2624064864864865,0.3443466101694912,0.2785935251798561,0.2114670907111756,0.2643213008130081,0.2079477954004757,0.2418007352941172,0.3335239189189189,0.2344967732919257,0.3020677290836656,0.2798994211287988,0.2621313148788928,0.2463669762845848,0.3083886092727274,0.3110482952815827,0.2809812398042416,0.2826715000000002,0.3108928949999999,0.2656431979166666,0.2560794708680144,0.2799900422535211,0.2534414494680852,0.2260444155,0.2221723085846866,0.2635512000000002,0.242464841052632,0.2461146149999996,0.3140711950000003,0.254665655,0.2536260100000002,0.2661968307692306,0.264347385,0.2950963400000001,0.3047611200000001,0.2952791333333324,0.3087957550000006,0.3109944051282049,0.3411423783783781,0.3395318673684203,0.3710257,0.3653538849999999,0.394438825641026,0.4490272461538461,0.482208465,0.4468238319159585,0.4569696500000004,0.4876251299999994,0.495633050000001,0.4963612550000003,0.5045261799999999,0.5361382499999989,0.5147236550000011,0.5232085050000003,0.5538432500000001,0.560287959000001,0.5614288650000007,0.5910127149999996,0.5977773948717964,0.5993827249999998,0.5909193894999996,0.6014252350000012,0.5910916750000013,0.6015154800000013,0.6149545999999998,0.5798395538461533,0.5856792461538458,0.584046375000001,0.5715913950000007,0.5594023641025635,0.5828642050000001,0.5625599100000002,0.578772685000001,0.5785795100000009,0.5860684750000011,0.5986987151000001,0.6051975050000015,0.6375226022552535,0.6254128323108387,0.6269855221945144,0.6412697960000012,0.6601652610030712,0.6488679450661226,0.653208511282051,0.6503262820512825,0.6683047743589737,0.6714608207672623,0.6707487551020408,0.6817778026289684,0.6483008934060499,0.6565714601542408,0.6455968914473688,0.6487954437905223,0.6270642715298895,0.5928552316082347,0.5904210208835337,0.6024346220161672,0.5932240360184717,0.6312316354679793],\"yaxis\":\"y\",\"type\":\"scatter\"},{\"hovertemplate\":\"variable=instrumentalness\\u003cbr\\u003eyear=%{x}\\u003cbr\\u003evalue=%{y}\\u003cextra\\u003e\\u003c\\u002fextra\\u003e\",\"legendgroup\":\"instrumentalness\",\"line\":{\"color\":\"#ab63fa\",\"dash\":\"solid\"},\"marker\":{\"symbol\":\"circle\"},\"mode\":\"lines\",\"name\":\"instrumentalness\",\"orientation\":\"v\",\"showlegend\":true,\"x\":[1921,1922,1923,1924,1925,1926,1927,1928,1929,1930,1931,1932,1933,1934,1935,1936,1937,1938,1939,1940,1941,1942,1943,1944,1945,1946,1947,1948,1949,1950,1951,1952,1953,1954,1955,1956,1957,1958,1959,1960,1961,1962,1963,1964,1965,1966,1967,1968,1969,1970,1971,1972,1973,1974,1975,1976,1977,1978,1979,1980,1981,1982,1983,1984,1985,1986,1987,1988,1989,1990,1991,1992,1993,1994,1995,1996,1997,1998,1999,2000,2001,2002,2003,2004,2005,2006,2007,2008,2009,2010,2011,2012,2013,2014,2015,2016,2017,2018,2019,2020],\"xaxis\":\"x\",\"y\":[0.3448780588666665,0.4341948697183099,0.371732725027027,0.5817009136440677,0.4182973612230215,0.3330931111175616,0.3913284986504065,0.4948354801348136,0.2152040310609246,0.3522059281652805,0.2214196416149072,0.2263565791633467,0.1839489396816208,0.276382266643599,0.2258732980895915,0.2571099957181816,0.3270876216438359,0.3784246349265906,0.2776824694100001,0.3168486998649998,0.4449516393124999,0.392882047871581,0.4098969234647892,0.4492919654122334,0.2758942570149996,0.4861264096461711,0.3475934179090908,0.3554848223842104,0.2977615361899994,0.245000820015,0.3084378555850002,0.2884126469300002,0.3183223943230766,0.2974400082799999,0.2166044216900002,0.2387634177800001,0.1945206161692309,0.1812411100599998,0.1881481940615383,0.1765021594216216,0.2646232531421054,0.1714715509421054,0.18543231468,0.1595978017794872,0.1183659460923078,0.1151259555649999,0.1189468546723362,0.112776949285,0.1594527081650001,0.1275670030849998,0.12501788923,0.1148803337599997,0.0996802232299999,0.11636098351,0.1113220337449999,0.12162904398,0.1277210319449999,0.1003812145099999,0.1157513720150001,0.1287510612717948,0.1468379466199998,0.100016383,0.1454105232900004,0.1451730397350004,0.1137385580749998,0.1099408543649999,0.1019745174666666,0.117190380220513,0.1131825446149999,0.1258262680949997,0.1150923397999999,0.1006900830649998,0.11529396538,0.1118857599499999,0.1232687960699999,0.0950528120350001,0.1046901786199999,0.1113257503499999,0.0940681410661199,0.1011677687934559,0.1072140189925186,0.0880483503149999,0.0830492746673491,0.0779340349084435,0.0901943611846154,0.0777014718769231,0.0729572680512819,0.0636620903171356,0.0758720736836735,0.0829805682192461,0.103772332166584,0.0852055206786631,0.0983650539170038,0.0765695548379051,0.1067868780547114,0.0939843871174179,0.0970906090662649,0.0542171216690441,0.0776402469728064,0.0163755243054187],\"yaxis\":\"y\",\"type\":\"scatter\"},{\"hovertemplate\":\"variable=liveness\\u003cbr\\u003eyear=%{x}\\u003cbr\\u003evalue=%{y}\\u003cextra\\u003e\\u003c\\u002fextra\\u003e\",\"legendgroup\":\"liveness\",\"line\":{\"color\":\"#FFA15A\",\"dash\":\"solid\"},\"marker\":{\"symbol\":\"circle\"},\"mode\":\"lines\",\"name\":\"liveness\",\"orientation\":\"v\",\"showlegend\":true,\"x\":[1921,1922,1923,1924,1925,1926,1927,1928,1929,1930,1931,1932,1933,1934,1935,1936,1937,1938,1939,1940,1941,1942,1943,1944,1945,1946,1947,1948,1949,1950,1951,1952,1953,1954,1955,1956,1957,1958,1959,1960,1961,1962,1963,1964,1965,1966,1967,1968,1969,1970,1971,1972,1973,1974,1975,1976,1977,1978,1979,1980,1981,1982,1983,1984,1985,1986,1987,1988,1989,1990,1991,1992,1993,1994,1995,1996,1997,1998,1999,2000,2001,2002,2003,2004,2005,2006,2007,2008,2009,2010,2011,2012,2013,2014,2015,2016,2017,2018,2019,2020],\"xaxis\":\"x\",\"y\":[0.20571,0.2407197183098592,0.2274621621621621,0.2352190677966101,0.2376679856115108,0.2323695936139332,0.1684502439024389,0.1752893735130848,0.2360002100840333,0.2213108627858629,0.2274279503105589,0.2324962151394422,0.2090719247467437,0.2134525951557092,0.2292998682476943,0.2214382727272726,0.2259677321156773,0.237111092985318,0.2391015999999999,0.2643351000000004,0.2018398958333331,0.2128784185493456,0.2392107042253524,0.2387719414893616,0.2030099500000001,0.2108183294663576,0.2238293939393936,0.2196935789473678,0.2088585500000004,0.2169584000000004,0.2177773999999999,0.2329722999999998,0.221734051282051,0.2178411499999996,0.2214353500000001,0.1822571500000002,0.1827485641025636,0.2058408500000003,0.1918429230769232,0.2078637297297298,0.2089125789473681,0.2018957368421054,0.2037453000000002,0.2172323589743596,0.2138391282051284,0.2180930999999999,0.190917658829415,0.2173509500000005,0.2069658999999999,0.2122688000000002,0.2149145500000001,0.2069549500000001,0.2013747499999997,0.2093463499999996,0.2154413500000002,0.2490321999999999,0.2232140500000004,0.2180709499999994,0.2134431000000002,0.2037541025641026,0.2250998999999999,0.20100675,0.1989224500000002,0.1977062,0.1992064499999998,0.2118794500000001,0.202018102564103,0.207707538461538,0.1990802,0.1909609,0.1886289230769235,0.2002455000000007,0.1949322500000003,0.1921651000000001,0.2013737000000004,0.1986863000000002,0.1984788000000003,0.1937308999999996,0.206308047155305,0.1976860429447853,0.1870256359102248,0.1939111999999998,0.196976305015353,0.2021994404883014,0.1900816256410258,0.1882892820512821,0.1961265641025642,0.1984314066496162,0.2052522959183674,0.1997006448412699,0.2033088249876056,0.1897330077120824,0.1996308198380571,0.1918215960099752,0.1888564336372847,0.181169894268225,0.1917126004016064,0.1763255349500711,0.1726164186762446,0.1785354187192117],\"yaxis\":\"y\",\"type\":\"scatter\"},{\"hovertemplate\":\"variable=valence\\u003cbr\\u003eyear=%{x}\\u003cbr\\u003evalue=%{y}\\u003cextra\\u003e\\u003c\\u002fextra\\u003e\",\"legendgroup\":\"valence\",\"line\":{\"color\":\"#19d3f3\",\"dash\":\"solid\"},\"marker\":{\"symbol\":\"circle\"},\"mode\":\"lines\",\"name\":\"valence\",\"orientation\":\"v\",\"showlegend\":true,\"x\":[1921,1922,1923,1924,1925,1926,1927,1928,1929,1930,1931,1932,1933,1934,1935,1936,1937,1938,1939,1940,1941,1942,1943,1944,1945,1946,1947,1948,1949,1950,1951,1952,1953,1954,1955,1956,1957,1958,1959,1960,1961,1962,1963,1964,1965,1966,1967,1968,1969,1970,1971,1972,1973,1974,1975,1976,1977,1978,1979,1980,1981,1982,1983,1984,1985,1986,1987,1988,1989,1990,1991,1992,1993,1994,1995,1996,1997,1998,1999,2000,2001,2002,2003,2004,2005,2006,2007,2008,2009,2010,2011,2012,2013,2014,2015,2016,2017,2018,2019,2020],\"xaxis\":\"x\",\"y\":[0.3793266666666666,0.5355492957746479,0.6254924324324328,0.6637254237288139,0.6219287769784171,0.4369104571843251,0.6597004878048782,0.4957126883425853,0.6365298319327733,0.6162376299376306,0.5131170807453418,0.5881599601593626,0.5994099855282197,0.5588046712802772,0.5455777997364957,0.5640635454545455,0.5857894977168944,0.5149111092985317,0.5599248999999992,0.6167094700000009,0.4794560416666661,0.4774088585017848,0.4954545070422531,0.5406954787234041,0.4913613500000002,0.3982538283062647,0.5082125454545455,0.4621423684210526,0.4304195000000001,0.5516497000000001,0.44134755,0.4431349620499994,0.4291420512820513,0.4523410500000002,0.4724154999999997,0.5084230500000003,0.5110101538461542,0.4976614999999994,0.4784156410256422,0.5239316756756759,0.5128512105263155,0.5477920526315792,0.5415274500000008,0.55726042051282,0.5809506666666668,0.5801445499999996,0.5507916958479243,0.5659936500000002,0.5547452849999999,0.5720753999999992,0.5749132500000002,0.5956881500000009,0.5921162000000004,0.5812744000000009,0.5694151500000002,0.5807332499999998,0.58524655,0.5895352500000014,0.6099818000000005,0.5980580512820513,0.5829518500000006,0.5864384500000001,0.5721198999999989,0.5516387100000003,0.5655964500000001,0.5509485500000019,0.5414511794871785,0.5464853897435901,0.5483329000000007,0.5265268499999999,0.5486552307692295,0.5590983000000014,0.5555684500000001,0.5266491500000006,0.5302466999999994,0.5608732500000001,0.5485525000000002,0.5377209,0.5564528446950284,0.5594754601226991,0.541479107231919,0.5423971500000008,0.5305042476970324,0.5244885554425227,0.5325309230769236,0.5200283076923078,0.5167938461538473,0.5275418925831203,0.5071696617346935,0.5208951587301589,0.4724536787307882,0.4627090128534706,0.4547411943319834,0.4630487780548628,0.4320983687943254,0.4315320589872012,0.4164763112449793,0.4479212743699474,0.4588176295536167,0.5010478078817729],\"yaxis\":\"y\",\"type\":\"scatter\"}],                        {\"template\":{\"data\":{\"histogram2dcontour\":[{\"type\":\"histogram2dcontour\",\"colorbar\":{\"outlinewidth\":0,\"ticks\":\"\"},\"colorscale\":[[0.0,\"#0d0887\"],[0.1111111111111111,\"#46039f\"],[0.2222222222222222,\"#7201a8\"],[0.3333333333333333,\"#9c179e\"],[0.4444444444444444,\"#bd3786\"],[0.5555555555555556,\"#d8576b\"],[0.6666666666666666,\"#ed7953\"],[0.7777777777777778,\"#fb9f3a\"],[0.8888888888888888,\"#fdca26\"],[1.0,\"#f0f921\"]]}],\"choropleth\":[{\"type\":\"choropleth\",\"colorbar\":{\"outlinewidth\":0,\"ticks\":\"\"}}],\"histogram2d\":[{\"type\":\"histogram2d\",\"colorbar\":{\"outlinewidth\":0,\"ticks\":\"\"},\"colorscale\":[[0.0,\"#0d0887\"],[0.1111111111111111,\"#46039f\"],[0.2222222222222222,\"#7201a8\"],[0.3333333333333333,\"#9c179e\"],[0.4444444444444444,\"#bd3786\"],[0.5555555555555556,\"#d8576b\"],[0.6666666666666666,\"#ed7953\"],[0.7777777777777778,\"#fb9f3a\"],[0.8888888888888888,\"#fdca26\"],[1.0,\"#f0f921\"]]}],\"heatmap\":[{\"type\":\"heatmap\",\"colorbar\":{\"outlinewidth\":0,\"ticks\":\"\"},\"colorscale\":[[0.0,\"#0d0887\"],[0.1111111111111111,\"#46039f\"],[0.2222222222222222,\"#7201a8\"],[0.3333333333333333,\"#9c179e\"],[0.4444444444444444,\"#bd3786\"],[0.5555555555555556,\"#d8576b\"],[0.6666666666666666,\"#ed7953\"],[0.7777777777777778,\"#fb9f3a\"],[0.8888888888888888,\"#fdca26\"],[1.0,\"#f0f921\"]]}],\"heatmapgl\":[{\"type\":\"heatmapgl\",\"colorbar\":{\"outlinewidth\":0,\"ticks\":\"\"},\"colorscale\":[[0.0,\"#0d0887\"],[0.1111111111111111,\"#46039f\"],[0.2222222222222222,\"#7201a8\"],[0.3333333333333333,\"#9c179e\"],[0.4444444444444444,\"#bd3786\"],[0.5555555555555556,\"#d8576b\"],[0.6666666666666666,\"#ed7953\"],[0.7777777777777778,\"#fb9f3a\"],[0.8888888888888888,\"#fdca26\"],[1.0,\"#f0f921\"]]}],\"contourcarpet\":[{\"type\":\"contourcarpet\",\"colorbar\":{\"outlinewidth\":0,\"ticks\":\"\"}}],\"contour\":[{\"type\":\"contour\",\"colorbar\":{\"outlinewidth\":0,\"ticks\":\"\"},\"colorscale\":[[0.0,\"#0d0887\"],[0.1111111111111111,\"#46039f\"],[0.2222222222222222,\"#7201a8\"],[0.3333333333333333,\"#9c179e\"],[0.4444444444444444,\"#bd3786\"],[0.5555555555555556,\"#d8576b\"],[0.6666666666666666,\"#ed7953\"],[0.7777777777777778,\"#fb9f3a\"],[0.8888888888888888,\"#fdca26\"],[1.0,\"#f0f921\"]]}],\"surface\":[{\"type\":\"surface\",\"colorbar\":{\"outlinewidth\":0,\"ticks\":\"\"},\"colorscale\":[[0.0,\"#0d0887\"],[0.1111111111111111,\"#46039f\"],[0.2222222222222222,\"#7201a8\"],[0.3333333333333333,\"#9c179e\"],[0.4444444444444444,\"#bd3786\"],[0.5555555555555556,\"#d8576b\"],[0.6666666666666666,\"#ed7953\"],[0.7777777777777778,\"#fb9f3a\"],[0.8888888888888888,\"#fdca26\"],[1.0,\"#f0f921\"]]}],\"mesh3d\":[{\"type\":\"mesh3d\",\"colorbar\":{\"outlinewidth\":0,\"ticks\":\"\"}}],\"scatter\":[{\"fillpattern\":{\"fillmode\":\"overlay\",\"size\":10,\"solidity\":0.2},\"type\":\"scatter\"}],\"parcoords\":[{\"type\":\"parcoords\",\"line\":{\"colorbar\":{\"outlinewidth\":0,\"ticks\":\"\"}}}],\"scatterpolargl\":[{\"type\":\"scatterpolargl\",\"marker\":{\"colorbar\":{\"outlinewidth\":0,\"ticks\":\"\"}}}],\"bar\":[{\"error_x\":{\"color\":\"#2a3f5f\"},\"error_y\":{\"color\":\"#2a3f5f\"},\"marker\":{\"line\":{\"color\":\"#E5ECF6\",\"width\":0.5},\"pattern\":{\"fillmode\":\"overlay\",\"size\":10,\"solidity\":0.2}},\"type\":\"bar\"}],\"scattergeo\":[{\"type\":\"scattergeo\",\"marker\":{\"colorbar\":{\"outlinewidth\":0,\"ticks\":\"\"}}}],\"scatterpolar\":[{\"type\":\"scatterpolar\",\"marker\":{\"colorbar\":{\"outlinewidth\":0,\"ticks\":\"\"}}}],\"histogram\":[{\"marker\":{\"pattern\":{\"fillmode\":\"overlay\",\"size\":10,\"solidity\":0.2}},\"type\":\"histogram\"}],\"scattergl\":[{\"type\":\"scattergl\",\"marker\":{\"colorbar\":{\"outlinewidth\":0,\"ticks\":\"\"}}}],\"scatter3d\":[{\"type\":\"scatter3d\",\"line\":{\"colorbar\":{\"outlinewidth\":0,\"ticks\":\"\"}},\"marker\":{\"colorbar\":{\"outlinewidth\":0,\"ticks\":\"\"}}}],\"scattermapbox\":[{\"type\":\"scattermapbox\",\"marker\":{\"colorbar\":{\"outlinewidth\":0,\"ticks\":\"\"}}}],\"scatterternary\":[{\"type\":\"scatterternary\",\"marker\":{\"colorbar\":{\"outlinewidth\":0,\"ticks\":\"\"}}}],\"scattercarpet\":[{\"type\":\"scattercarpet\",\"marker\":{\"colorbar\":{\"outlinewidth\":0,\"ticks\":\"\"}}}],\"carpet\":[{\"aaxis\":{\"endlinecolor\":\"#2a3f5f\",\"gridcolor\":\"white\",\"linecolor\":\"white\",\"minorgridcolor\":\"white\",\"startlinecolor\":\"#2a3f5f\"},\"baxis\":{\"endlinecolor\":\"#2a3f5f\",\"gridcolor\":\"white\",\"linecolor\":\"white\",\"minorgridcolor\":\"white\",\"startlinecolor\":\"#2a3f5f\"},\"type\":\"carpet\"}],\"table\":[{\"cells\":{\"fill\":{\"color\":\"#EBF0F8\"},\"line\":{\"color\":\"white\"}},\"header\":{\"fill\":{\"color\":\"#C8D4E3\"},\"line\":{\"color\":\"white\"}},\"type\":\"table\"}],\"barpolar\":[{\"marker\":{\"line\":{\"color\":\"#E5ECF6\",\"width\":0.5},\"pattern\":{\"fillmode\":\"overlay\",\"size\":10,\"solidity\":0.2}},\"type\":\"barpolar\"}],\"pie\":[{\"automargin\":true,\"type\":\"pie\"}]},\"layout\":{\"autotypenumbers\":\"strict\",\"colorway\":[\"#636efa\",\"#EF553B\",\"#00cc96\",\"#ab63fa\",\"#FFA15A\",\"#19d3f3\",\"#FF6692\",\"#B6E880\",\"#FF97FF\",\"#FECB52\"],\"font\":{\"color\":\"#2a3f5f\"},\"hovermode\":\"closest\",\"hoverlabel\":{\"align\":\"left\"},\"paper_bgcolor\":\"white\",\"plot_bgcolor\":\"#E5ECF6\",\"polar\":{\"bgcolor\":\"#E5ECF6\",\"angularaxis\":{\"gridcolor\":\"white\",\"linecolor\":\"white\",\"ticks\":\"\"},\"radialaxis\":{\"gridcolor\":\"white\",\"linecolor\":\"white\",\"ticks\":\"\"}},\"ternary\":{\"bgcolor\":\"#E5ECF6\",\"aaxis\":{\"gridcolor\":\"white\",\"linecolor\":\"white\",\"ticks\":\"\"},\"baxis\":{\"gridcolor\":\"white\",\"linecolor\":\"white\",\"ticks\":\"\"},\"caxis\":{\"gridcolor\":\"white\",\"linecolor\":\"white\",\"ticks\":\"\"}},\"coloraxis\":{\"colorbar\":{\"outlinewidth\":0,\"ticks\":\"\"}},\"colorscale\":{\"sequential\":[[0.0,\"#0d0887\"],[0.1111111111111111,\"#46039f\"],[0.2222222222222222,\"#7201a8\"],[0.3333333333333333,\"#9c179e\"],[0.4444444444444444,\"#bd3786\"],[0.5555555555555556,\"#d8576b\"],[0.6666666666666666,\"#ed7953\"],[0.7777777777777778,\"#fb9f3a\"],[0.8888888888888888,\"#fdca26\"],[1.0,\"#f0f921\"]],\"sequentialminus\":[[0.0,\"#0d0887\"],[0.1111111111111111,\"#46039f\"],[0.2222222222222222,\"#7201a8\"],[0.3333333333333333,\"#9c179e\"],[0.4444444444444444,\"#bd3786\"],[0.5555555555555556,\"#d8576b\"],[0.6666666666666666,\"#ed7953\"],[0.7777777777777778,\"#fb9f3a\"],[0.8888888888888888,\"#fdca26\"],[1.0,\"#f0f921\"]],\"diverging\":[[0,\"#8e0152\"],[0.1,\"#c51b7d\"],[0.2,\"#de77ae\"],[0.3,\"#f1b6da\"],[0.4,\"#fde0ef\"],[0.5,\"#f7f7f7\"],[0.6,\"#e6f5d0\"],[0.7,\"#b8e186\"],[0.8,\"#7fbc41\"],[0.9,\"#4d9221\"],[1,\"#276419\"]]},\"xaxis\":{\"gridcolor\":\"white\",\"linecolor\":\"white\",\"ticks\":\"\",\"title\":{\"standoff\":15},\"zerolinecolor\":\"white\",\"automargin\":true,\"zerolinewidth\":2},\"yaxis\":{\"gridcolor\":\"white\",\"linecolor\":\"white\",\"ticks\":\"\",\"title\":{\"standoff\":15},\"zerolinecolor\":\"white\",\"automargin\":true,\"zerolinewidth\":2},\"scene\":{\"xaxis\":{\"backgroundcolor\":\"#E5ECF6\",\"gridcolor\":\"white\",\"linecolor\":\"white\",\"showbackground\":true,\"ticks\":\"\",\"zerolinecolor\":\"white\",\"gridwidth\":2},\"yaxis\":{\"backgroundcolor\":\"#E5ECF6\",\"gridcolor\":\"white\",\"linecolor\":\"white\",\"showbackground\":true,\"ticks\":\"\",\"zerolinecolor\":\"white\",\"gridwidth\":2},\"zaxis\":{\"backgroundcolor\":\"#E5ECF6\",\"gridcolor\":\"white\",\"linecolor\":\"white\",\"showbackground\":true,\"ticks\":\"\",\"zerolinecolor\":\"white\",\"gridwidth\":2}},\"shapedefaults\":{\"line\":{\"color\":\"#2a3f5f\"}},\"annotationdefaults\":{\"arrowcolor\":\"#2a3f5f\",\"arrowhead\":0,\"arrowwidth\":1},\"geo\":{\"bgcolor\":\"white\",\"landcolor\":\"#E5ECF6\",\"subunitcolor\":\"white\",\"showland\":true,\"showlakes\":true,\"lakecolor\":\"white\"},\"title\":{\"x\":0.05},\"mapbox\":{\"style\":\"light\"}}},\"xaxis\":{\"anchor\":\"y\",\"domain\":[0.0,1.0],\"title\":{\"text\":\"year\"}},\"yaxis\":{\"anchor\":\"x\",\"domain\":[0.0,1.0],\"title\":{\"text\":\"value\"}},\"legend\":{\"title\":{\"text\":\"variable\"},\"tracegroupgap\":0},\"margin\":{\"t\":60}},                        {\"responsive\": true}                    ).then(function(){\n",
              "                            \n",
              "var gd = document.getElementById('22498a66-ec26-479c-9f64-bfb050d50eec');\n",
              "var x = new MutationObserver(function (mutations, observer) {{\n",
              "        var display = window.getComputedStyle(gd).display;\n",
              "        if (!display || display === 'none') {{\n",
              "            console.log([gd, 'removed!']);\n",
              "            Plotly.purge(gd);\n",
              "            observer.disconnect();\n",
              "        }}\n",
              "}});\n",
              "\n",
              "// Listen for the removal of the full notebook cells\n",
              "var notebookContainer = gd.closest('#notebook-container');\n",
              "if (notebookContainer) {{\n",
              "    x.observe(notebookContainer, {childList: true});\n",
              "}}\n",
              "\n",
              "// Listen for the clearing of the current output cell\n",
              "var outputEl = gd.closest('.output');\n",
              "if (outputEl) {{\n",
              "    x.observe(outputEl, {childList: true});\n",
              "}}\n",
              "\n",
              "                        })                };                            </script>        </div>\n",
              "</body>\n",
              "</html>"
            ]
          },
          "metadata": {}
        }
      ]
    },
    {
      "cell_type": "markdown",
      "source": [
        "**Elbow Method for Right K**"
      ],
      "metadata": {
        "id": "MfyZAEPqDFdC"
      }
    },
    {
      "cell_type": "code",
      "source": [
        "import matplotlib.pyplot as plt\n",
        "from sklearn.cluster import KMeans\n",
        "import numpy as np\n",
        "\n",
        "# Calculate inertia for different k values\n",
        "inertia = []\n",
        "k_range = range(1,20)\n",
        "X = data.select_dtypes(include=np.number)\n",
        "for k in k_range:\n",
        "    kmeans = KMeans(n_clusters=k, random_state=42, verbose=False)\n",
        "    kmeans.fit(X)\n",
        "    inertia.append(kmeans.inertia_)\n",
        "\n",
        "# Plot the elbow curve\n",
        "plt.plot(k_range, inertia, marker='o')\n",
        "plt.title('Elbow Method for Optimal k')\n",
        "plt.xlabel('Number of clusters (k)')\n",
        "plt.ylabel('Inertia')\n",
        "plt.show()\n"
      ],
      "metadata": {
        "colab": {
          "base_uri": "https://localhost:8080/",
          "height": 573
        },
        "id": "r2SkNP8dB3xs",
        "outputId": "b4f4dbf8-55e0-4fb0-9174-a48098b85957"
      },
      "execution_count": null,
      "outputs": [
        {
          "output_type": "display_data",
          "data": {
            "text/plain": [
              "<Figure size 1100x600 with 1 Axes>"
            ],
            "image/png": "[encoded data removed]"
          },
          "metadata": {}
        }
      ]
    },
    {
      "cell_type": "markdown",
      "source": [
        "**Model Building**"
      ],
      "metadata": {
        "id": "d6hHxIZJII6F"
      }
    },
    {
      "cell_type": "code",
      "source": [
        "data = pd.read_csv(\"/content/data.csv\")\n",
        "song_cluster_pipeline = Pipeline([('scaler', StandardScaler()),\n",
        "                                  ('kmeans', KMeans(n_clusters=5,random_state =42,\n",
        "                                   verbose=False))\n",
        "                                 ], verbose=False)\n",
        "\n",
        "X = data.select_dtypes(np.number)\n",
        "number_cols = list(X.columns)\n",
        "song_cluster_pipeline.fit(X)\n",
        "song_cluster_labels = song_cluster_pipeline.predict(X)\n",
        "data['cluster_label'] = song_cluster_labels"
      ],
      "metadata": {
        "id": "zaSFBwqGMX5k"
      },
      "execution_count": null,
      "outputs": []
    },
    {
      "cell_type": "code",
      "source": [
        "from sklearn.metrics.pairwise import cosine_similarity\n",
        "def get_similarities(song_name, data):\n",
        "\n",
        "  num_array1 = data[data['name']==song_name].select_dtypes(include=np.number).to_numpy()\n",
        "\n",
        "  input_song_cluster = data[data['name'] == song_name]['cluster_label'].iloc[0]\n",
        "  cluster_data = data[data['cluster_label'] == input_song_cluster]\n",
        "\n",
        "  # We will store similarity for each row of the dataset.\n",
        "  sim = []\n",
        "  for idx, row in cluster_data.iterrows():\n",
        "    name = row['name']\n",
        "\n",
        "\n",
        "    num_array2 = cluster_data[cluster_data['name']==name].select_dtypes(include=np.number).to_numpy()\n",
        "\n",
        "    num_sim = cosine_similarity(num_array1, num_array2)[0][0]\n",
        "\n",
        "    sim.append(num_sim)\n",
        "\n",
        "  return sim"
      ],
      "metadata": {
        "id": "l2BeIK9WMo9g"
      },
      "execution_count": null,
      "outputs": []
    },
    {
      "cell_type": "code",
      "source": [
        "def recommend_songs(song_name, data=data):\n",
        "  # Base case\n",
        "  if data[data['name'] == song_name].shape[0] == 0:\n",
        "    print('This song is either not so popular or you have entered invalid_name.\\n Some songs you may like:\\n')\n",
        "\n",
        "    for song in data.sample(n=5)['name'].values:\n",
        "      print(song)\n",
        "    return\n",
        "\n",
        "  input_song_cluster = data[data['name'] == song_name]['cluster_label'].iloc[0]\n",
        "  cluster_data = data[data['cluster_label'] == input_song_cluster]\n",
        "\n",
        "  cluster_data['similarity_factor'] = get_similarities(song_name, data)\n",
        "\n",
        "  cluster_data.sort_values(by=['similarity_factor', 'popularity'],\n",
        "                   ascending = [False, False],\n",
        "                   inplace=True)\n",
        "\n",
        "  # First song will be the input song itself as the similarity will be highest.\n",
        "\n",
        "  display(cluster_data[['name', 'artists']][1:11].reset_index(drop=True))\n",
        "\n"
      ],
      "metadata": {
        "id": "Hd9dBBNGMzF2"
      },
      "execution_count": null,
      "outputs": []
    },
    {
      "cell_type": "code",
      "source": [
        "recommend_songs('Darkness')"
      ],
      "metadata": {
        "id": "4HHQoqetM9q_",
        "colab": {
          "base_uri": "https://localhost:8080/",
          "height": 363
        },
        "outputId": "8cc4c970-e1a7-4148-f8da-212ad265d841"
      },
      "execution_count": null,
      "outputs": [
        {
          "output_type": "display_data",
          "data": {
            "text/plain": [
              "                                    name  \\\n",
              "0                               Darkness   \n",
              "1                               Darkness   \n",
              "2                               Darkness   \n",
              "3                          Born Too Late   \n",
              "4                              Sigo Vivo   \n",
              "5  Hocus Pocus - Original Single Version   \n",
              "6                           Out Of Reach   \n",
              "7             Desde El Día Que Te Fuiste   \n",
              "8                       Yesterday's Wine   \n",
              "9                       Yesterday's Wine   \n",
              "\n",
              "                                             artists  \n",
              "0                       ['Rage Against The Machine']  \n",
              "1                                     ['The Police']  \n",
              "2                      ['FADEProject', 'LoudbaserS']  \n",
              "3                                     ['The Clarks']  \n",
              "4                                 ['Joan Sebastian']  \n",
              "5                                          ['Focus']  \n",
              "6                                      ['Gabrielle']  \n",
              "7  ['José Manuel Zamacona', 'José Manuel Zamacona...  \n",
              "8                                  ['Willie Nelson']  \n",
              "9                                  ['Willie Nelson']  "
            ],
            "text/html": [
              "\n",
              "  <div id=\"df-cc8f37ab-fbac-4a1d-8eba-93d1952b5790\" class=\"colab-df-container\">\n",
              "    <div>\n",
              "<style scoped>\n",
              "    .dataframe tbody tr th:only-of-type {\n",
              "        vertical-align: middle;\n",
              "    }\n",
              "\n",
              "    .dataframe tbody tr th {\n",
              "        vertical-align: top;\n",
              "    }\n",
              "\n",
              "    .dataframe thead th {\n",
              "        text-align: right;\n",
              "    }\n",
              "</style>\n",
              "<table border=\"1\" class=\"dataframe\">\n",
              "  <thead>\n",
              "    <tr style=\"text-align: right;\">\n",
              "      <th></th>\n",
              "      <th>name</th>\n",
              "      <th>artists</th>\n",
              "    </tr>\n",
              "  </thead>\n",
              "  <tbody>\n",
              "    <tr>\n",
              "      <th>0</th>\n",
              "      <td>Darkness</td>\n",
              "      <td>['Rage Against The Machine']</td>\n",
              "    </tr>\n",
              "    <tr>\n",
              "      <th>1</th>\n",
              "      <td>Darkness</td>\n",
              "      <td>['The Police']</td>\n",
              "    </tr>\n",
              "    <tr>\n",
              "      <th>2</th>\n",
              "      <td>Darkness</td>\n",
              "      <td>['FADEProject', 'LoudbaserS']</td>\n",
              "    </tr>\n",
              "    <tr>\n",
              "      <th>3</th>\n",
              "      <td>Born Too Late</td>\n",
              "      <td>['The Clarks']</td>\n",
              "    </tr>\n",
              "    <tr>\n",
              "      <th>4</th>\n",
              "      <td>Sigo Vivo</td>\n",
              "      <td>['Joan Sebastian']</td>\n",
              "    </tr>\n",
              "    <tr>\n",
              "      <th>5</th>\n",
              "      <td>Hocus Pocus - Original Single Version</td>\n",
              "      <td>['Focus']</td>\n",
              "    </tr>\n",
              "    <tr>\n",
              "      <th>6</th>\n",
              "      <td>Out Of Reach</td>\n",
              "      <td>['Gabrielle']</td>\n",
              "    </tr>\n",
              "    <tr>\n",
              "      <th>7</th>\n",
              "      <td>Desde El Día Que Te Fuiste</td>\n",
              "      <td>['José Manuel Zamacona', 'José Manuel Zamacona...</td>\n",
              "    </tr>\n",
              "    <tr>\n",
              "      <th>8</th>\n",
              "      <td>Yesterday's Wine</td>\n",
              "      <td>['Willie Nelson']</td>\n",
              "    </tr>\n",
              "    <tr>\n",
              "      <th>9</th>\n",
              "      <td>Yesterday's Wine</td>\n",
              "      <td>['Willie Nelson']</td>\n",
              "    </tr>\n",
              "  </tbody>\n",
              "</table>\n",
              "</div>\n",
              "    <div class=\"colab-df-buttons\">\n",
              "\n",
              "  <div class=\"colab-df-container\">\n",
              "    <button class=\"colab-df-convert\" onclick=\"convertToInteractive('df-cc8f37ab-fbac-4a1d-8eba-93d1952b5790')\"\n",
              "            title=\"Convert this dataframe to an interactive table.\"\n",
              "            style=\"display:none;\">\n",
              "\n",
              "  <svg xmlns=\"http://www.w3.org/2000/svg\" height=\"24px\" viewBox=\"0 -960 960 960\">\n",
              "    <path d=\"M120-120v-720h720v720H120Zm60-500h600v-160H180v160Zm220 220h160v-160H400v160Zm0 220h160v-160H400v160ZM180-400h160v-160H180v160Zm440 0h160v-160H620v160ZM180-180h160v-160H180v160Zm440 0h160v-160H620v160Z\"/>\n",
              "  </svg>\n",
              "    </button>\n",
              "\n",
              "  <style>\n",
              "    .colab-df-container {\n",
              "      display:flex;\n",
              "      gap: 12px;\n",
              "    }\n",
              "\n",
              "    .colab-df-convert {\n",
              "      background-color: #E8F0FE;\n",
              "      border: none;\n",
              "      border-radius: 50%;\n",
              "      cursor: pointer;\n",
              "      display: none;\n",
              "      fill: #1967D2;\n",
              "      height: 32px;\n",
              "      padding: 0 0 0 0;\n",
              "      width: 32px;\n",
              "    }\n",
              "\n",
              "    .colab-df-convert:hover {\n",
              "      background-color: #E2EBFA;\n",
              "      box-shadow: 0px 1px 2px rgba(60, 64, 67, 0.3), 0px 1px 3px 1px rgba(60, 64, 67, 0.15);\n",
              "      fill: #174EA6;\n",
              "    }\n",
              "\n",
              "    .colab-df-buttons div {\n",
              "      margin-bottom: 4px;\n",
              "    }\n",
              "\n",
              "    [theme=dark] .colab-df-convert {\n",
              "      background-color: #3B4455;\n",
              "      fill: #D2E3FC;\n",
              "    }\n",
              "\n",
              "    [theme=dark] .colab-df-convert:hover {\n",
              "      background-color: #434B5C;\n",
              "      box-shadow: 0px 1px 3px 1px rgba(0, 0, 0, 0.15);\n",
              "      filter: drop-shadow(0px 1px 2px rgba(0, 0, 0, 0.3));\n",
              "      fill: #FFFFFF;\n",
              "    }\n",
              "  </style>\n",
              "\n",
              "    <script>\n",
              "      const buttonEl =\n",
              "        document.querySelector('#df-cc8f37ab-fbac-4a1d-8eba-93d1952b5790 button.colab-df-convert');\n",
              "      buttonEl.style.display =\n",
              "        google.colab.kernel.accessAllowed ? 'block' : 'none';\n",
              "\n",
              "      async function convertToInteractive(key) {\n",
              "        const element = document.querySelector('#df-cc8f37ab-fbac-4a1d-8eba-93d1952b5790');\n",
              "        const dataTable =\n",
              "          await google.colab.kernel.invokeFunction('convertToInteractive',\n",
              "                                                    [key], {});\n",
              "        if (!dataTable) return;\n",
              "\n",
              "        const docLinkHtml = 'Like what you see? Visit the ' +\n",
              "          '<a target=\"_blank\" href=https://colab.research.google.com/notebooks/data_table.ipynb>data table notebook</a>'\n",
              "          + ' to learn more about interactive tables.';\n",
              "        element.innerHTML = '';\n",
              "        dataTable['output_type'] = 'display_data';\n",
              "        await google.colab.output.renderOutput(dataTable, element);\n",
              "        const docLink = document.createElement('div');\n",
              "        docLink.innerHTML = docLinkHtml;\n",
              "        element.appendChild(docLink);\n",
              "      }\n",
              "    </script>\n",
              "  </div>\n",
              "\n",
              "\n",
              "<div id=\"df-753b69fb-6931-4c6b-9f9c-34497224f99b\">\n",
              "  <button class=\"colab-df-quickchart\" onclick=\"quickchart('df-753b69fb-6931-4c6b-9f9c-34497224f99b')\"\n",
              "            title=\"Suggest charts\"\n",
              "            style=\"display:none;\">\n",
              "\n",
              "<svg xmlns=\"http://www.w3.org/2000/svg\" height=\"24px\"viewBox=\"0 0 24 24\"\n",
              "     width=\"24px\">\n",
              "    <g>\n",
              "        <path d=\"M19 3H5c-1.1 0-2 .9-2 2v14c0 1.1.9 2 2 2h14c1.1 0 2-.9 2-2V5c0-1.1-.9-2-2-2zM9 17H7v-7h2v7zm4 0h-2V7h2v10zm4 0h-2v-4h2v4z\"/>\n",
              "    </g>\n",
              "</svg>\n",
              "  </button>\n",
              "\n",
              "<style>\n",
              "  .colab-df-quickchart {\n",
              "      --bg-color: #E8F0FE;\n",
              "      --fill-color: #1967D2;\n",
              "      --hover-bg-color: #E2EBFA;\n",
              "      --hover-fill-color: #174EA6;\n",
              "      --disabled-fill-color: #AAA;\n",
              "      --disabled-bg-color: #DDD;\n",
              "  }\n",
              "\n",
              "  [theme=dark] .colab-df-quickchart {\n",
              "      --bg-color: #3B4455;\n",
              "      --fill-color: #D2E3FC;\n",
              "      --hover-bg-color: #434B5C;\n",
              "      --hover-fill-color: #FFFFFF;\n",
              "      --disabled-bg-color: #3B4455;\n",
              "      --disabled-fill-color: #666;\n",
              "  }\n",
              "\n",
              "  .colab-df-quickchart {\n",
              "    background-color: var(--bg-color);\n",
              "    border: none;\n",
              "    border-radius: 50%;\n",
              "    cursor: pointer;\n",
              "    display: none;\n",
              "    fill: var(--fill-color);\n",
              "    height: 32px;\n",
              "    padding: 0;\n",
              "    width: 32px;\n",
              "  }\n",
              "\n",
              "  .colab-df-quickchart:hover {\n",
              "    background-color: var(--hover-bg-color);\n",
              "    box-shadow: 0 1px 2px rgba(60, 64, 67, 0.3), 0 1px 3px 1px rgba(60, 64, 67, 0.15);\n",
              "    fill: var(--button-hover-fill-color);\n",
              "  }\n",
              "\n",
              "  .colab-df-quickchart-complete:disabled,\n",
              "  .colab-df-quickchart-complete:disabled:hover {\n",
              "    background-color: var(--disabled-bg-color);\n",
              "    fill: var(--disabled-fill-color);\n",
              "    box-shadow: none;\n",
              "  }\n",
              "\n",
              "  .colab-df-spinner {\n",
              "    border: 2px solid var(--fill-color);\n",
              "    border-color: transparent;\n",
              "    border-bottom-color: var(--fill-color);\n",
              "    animation:\n",
              "      spin 1s steps(1) infinite;\n",
              "  }\n",
              "\n",
              "  @keyframes spin {\n",
              "    0% {\n",
              "      border-color: transparent;\n",
              "      border-bottom-color: var(--fill-color);\n",
              "      border-left-color: var(--fill-color);\n",
              "    }\n",
              "    20% {\n",
              "      border-color: transparent;\n",
              "      border-left-color: var(--fill-color);\n",
              "      border-top-color: var(--fill-color);\n",
              "    }\n",
              "    30% {\n",
              "      border-color: transparent;\n",
              "      border-left-color: var(--fill-color);\n",
              "      border-top-color: var(--fill-color);\n",
              "      border-right-color: var(--fill-color);\n",
              "    }\n",
              "    40% {\n",
              "      border-color: transparent;\n",
              "      border-right-color: var(--fill-color);\n",
              "      border-top-color: var(--fill-color);\n",
              "    }\n",
              "    60% {\n",
              "      border-color: transparent;\n",
              "      border-right-color: var(--fill-color);\n",
              "    }\n",
              "    80% {\n",
              "      border-color: transparent;\n",
              "      border-right-color: var(--fill-color);\n",
              "      border-bottom-color: var(--fill-color);\n",
              "    }\n",
              "    90% {\n",
              "      border-color: transparent;\n",
              "      border-bottom-color: var(--fill-color);\n",
              "    }\n",
              "  }\n",
              "</style>\n",
              "\n",
              "  <script>\n",
              "    async function quickchart(key) {\n",
              "      const quickchartButtonEl =\n",
              "        document.querySelector('#' + key + ' button');\n",
              "      quickchartButtonEl.disabled = true;  // To prevent multiple clicks.\n",
              "      quickchartButtonEl.classList.add('colab-df-spinner');\n",
              "      try {\n",
              "        const charts = await google.colab.kernel.invokeFunction(\n",
              "            'suggestCharts', [key], {});\n",
              "      } catch (error) {\n",
              "        console.error('Error during call to suggestCharts:', error);\n",
              "      }\n",
              "      quickchartButtonEl.classList.remove('colab-df-spinner');\n",
              "      quickchartButtonEl.classList.add('colab-df-quickchart-complete');\n",
              "    }\n",
              "    (() => {\n",
              "      let quickchartButtonEl =\n",
              "        document.querySelector('#df-753b69fb-6931-4c6b-9f9c-34497224f99b button');\n",
              "      quickchartButtonEl.style.display =\n",
              "        google.colab.kernel.accessAllowed ? 'block' : 'none';\n",
              "    })();\n",
              "  </script>\n",
              "</div>\n",
              "\n",
              "    </div>\n",
              "  </div>\n"
            ],
            "application/vnd.google.colaboratory.intrinsic+json": {
              "type": "dataframe",
              "summary": "{\n  \"name\": \"recommend_songs('Darkness')\",\n  \"rows\": 10,\n  \"fields\": [\n    {\n      \"column\": \"name\",\n      \"properties\": {\n        \"dtype\": \"string\",\n        \"num_unique_values\": 7,\n        \"samples\": [\n          \"Darkness\",\n          \"Born Too Late\",\n          \"Desde El D\\u00eda Que Te Fuiste\"\n        ],\n        \"semantic_type\": \"\",\n        \"description\": \"\"\n      }\n    },\n    {\n      \"column\": \"artists\",\n      \"properties\": {\n        \"dtype\": \"string\",\n        \"num_unique_values\": 9,\n        \"samples\": [\n          \"['Jos\\u00e9 Manuel Zamacona', 'Jos\\u00e9 Manuel Zamacona, Jr']\",\n          \"['The Police']\",\n          \"['Focus']\"\n        ],\n        \"semantic_type\": \"\",\n        \"description\": \"\"\n      }\n    }\n  ]\n}"
            }
          },
          "metadata": {}
        }
      ]
    },
    {
      "cell_type": "code",
      "source": [
        "import pickle\n",
        "pickle.dump(data,open('data.pkl','wb'))\n",
        "pickle.dump(song_cluster_pipeline,open('song_cluster_pipeline.pkl','wb'))"
      ],
      "metadata": {
        "id": "aeScIhh9M2Ww"
      },
      "execution_count": null,
      "outputs": []
    },
    {
      "cell_type": "code",
      "source": [],
      "metadata": {
        "id": "NOILB4UyM-wx"
      },
      "execution_count": null,
      "outputs": []
    }
  ]
}